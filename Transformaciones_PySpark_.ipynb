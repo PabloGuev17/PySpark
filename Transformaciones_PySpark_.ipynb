{
  "nbformat": 4,
  "nbformat_minor": 0,
  "metadata": {
    "colab": {
      "provenance": [],
      "authorship_tag": "ABX9TyMZ639brB23Do9L4vsknCnB",
      "include_colab_link": true
    },
    "kernelspec": {
      "name": "python3",
      "display_name": "Python 3"
    },
    "language_info": {
      "name": "python"
    }
  },
  "cells": [
    {
      "cell_type": "markdown",
      "metadata": {
        "id": "view-in-github",
        "colab_type": "text"
      },
      "source": [
        "<a href=\"https://colab.research.google.com/github/PabloGuev17/PySpark/blob/main/Transformaciones_PySpark_.ipynb\" target=\"_parent\"><img src=\"https://colab.research.google.com/assets/colab-badge.svg\" alt=\"Open In Colab\"/></a>"
      ]
    },
    {
      "cell_type": "markdown",
      "source": [
        "\n",
        "# Funcion Map\n"
      ],
      "metadata": {
        "id": "7ixMAfNKo3_a"
      }
    },
    {
      "cell_type": "code",
      "execution_count": 1,
      "metadata": {
        "colab": {
          "base_uri": "https://localhost:8080/"
        },
        "id": "HMZvRAlMnOzR",
        "outputId": "bda1762f-8776-44c7-b9be-59cd804ec3e0"
      },
      "outputs": [
        {
          "output_type": "stream",
          "name": "stdout",
          "text": [
            "+-----+\n",
            "|Hola |\n",
            "+-----+\n",
            "|Mundo|\n",
            "|Mundo|\n",
            "|Mundo|\n",
            "|Mundo|\n",
            "|Mundo|\n",
            "|Mundo|\n",
            "|Mundo|\n",
            "|Mundo|\n",
            "|Mundo|\n",
            "|Mundo|\n",
            "+-----+\n",
            "\n"
          ]
        }
      ],
      "source": [
        "# Instalar SDK Java 8\n",
        "\n",
        "!apt-get install openjdk-8-jdk-headless -qq > /dev/null\n",
        "\n",
        "# Descargar Spark 3.4.3\n",
        "\n",
        "!wget -q https://archive.apache.org/dist/spark/spark-3.4.3/spark-3.4.3-bin-hadoop3.tgz\n",
        "\n",
        "# Descomprimir el archivo descargado de Spark\n",
        "\n",
        "!tar xf spark-3.4.3-bin-hadoop3.tgz\n",
        "\n",
        "# Establecer las variables de entorno\n",
        "\n",
        "import os\n",
        "\n",
        "os.environ[\"JAVA_HOME\"] = \"/usr/lib/jvm/java-8-openjdk-amd64\"\n",
        "os.environ[\"SPARK_HOME\"] = \"/content/spark-3.4.3-bin-hadoop3\"\n",
        "\n",
        "# Instalar la librería findspark\n",
        "\n",
        "!pip install -q findspark\n",
        "\n",
        "# Instalar pyspark\n",
        "\n",
        "!pip install -q pyspark\n",
        "\n",
        "### verificar la instalación ###\n",
        "\n",
        "import findspark\n",
        "\n",
        "findspark.init()\n",
        "\n",
        "from pyspark.sql import SparkSession\n",
        "\n",
        "spark = SparkSession.builder.master(\"local[*]\").getOrCreate()\n",
        "\n",
        "# Probando la sesión de Spark\n",
        "df = spark.createDataFrame([{\"Hola\": \"Mundo\"} for x in range(10)])\n",
        "\n",
        "df.show(10, False)"
      ]
    },
    {
      "cell_type": "code",
      "source": [
        "sc = spark.sparkContext\n"
      ],
      "metadata": {
        "id": "s4IsEYJLng70"
      },
      "execution_count": 2,
      "outputs": []
    },
    {
      "cell_type": "code",
      "source": [
        "rdd = sc.parallelize([1,2,3,4,5])"
      ],
      "metadata": {
        "id": "k1xgDid8nmdk"
      },
      "execution_count": 3,
      "outputs": []
    },
    {
      "cell_type": "code",
      "source": [
        "rdd_resta = rdd.map(lambda x: x-1)\n",
        "rdd_resta.collect()"
      ],
      "metadata": {
        "colab": {
          "base_uri": "https://localhost:8080/"
        },
        "id": "9mkJYumKntzU",
        "outputId": "45cbaacf-7e5b-4171-80bd-6f65d76d9561"
      },
      "execution_count": 4,
      "outputs": [
        {
          "output_type": "execute_result",
          "data": {
            "text/plain": [
              "[0, 1, 2, 3, 4]"
            ]
          },
          "metadata": {},
          "execution_count": 4
        }
      ]
    },
    {
      "cell_type": "code",
      "source": [
        "rdd_par = rdd.map(lambda x: x%2 ==0)\n",
        "rdd_par.collect()"
      ],
      "metadata": {
        "colab": {
          "base_uri": "https://localhost:8080/"
        },
        "id": "MIHYcp1Xn5Fv",
        "outputId": "75f3a695-8501-4e41-88c3-e1fd4f31d485"
      },
      "execution_count": 6,
      "outputs": [
        {
          "output_type": "execute_result",
          "data": {
            "text/plain": [
              "[False, True, False, True, False]"
            ]
          },
          "metadata": {},
          "execution_count": 6
        }
      ]
    },
    {
      "cell_type": "code",
      "source": [
        "rdd_texto = sc.parallelize([\"jose\", \"juan\", \"pedro\"])\n",
        "rdd_texto.collect()"
      ],
      "metadata": {
        "colab": {
          "base_uri": "https://localhost:8080/"
        },
        "id": "_TRNOrbxoLfb",
        "outputId": "08071fc0-667e-462a-f6e5-132a3c244bb8"
      },
      "execution_count": 7,
      "outputs": [
        {
          "output_type": "execute_result",
          "data": {
            "text/plain": [
              "['jose', 'juan', 'pedro']"
            ]
          },
          "metadata": {},
          "execution_count": 7
        }
      ]
    },
    {
      "cell_type": "code",
      "source": [
        "rdd_mayusculas = rdd_texto.map(lambda x: x.upper())\n",
        "rdd_mayusculas.collect()"
      ],
      "metadata": {
        "colab": {
          "base_uri": "https://localhost:8080/"
        },
        "id": "v0Y9fy_EocTe",
        "outputId": "4f9f02b3-9630-4157-a615-1c249131efe5"
      },
      "execution_count": 8,
      "outputs": [
        {
          "output_type": "execute_result",
          "data": {
            "text/plain": [
              "['JOSE', 'JUAN', 'PEDRO']"
            ]
          },
          "metadata": {},
          "execution_count": 8
        }
      ]
    },
    {
      "cell_type": "code",
      "source": [
        "rdd_hola = rdd_texto.map(lambda x: \"hola \"+ x)\n",
        "rdd_hola.collect()"
      ],
      "metadata": {
        "colab": {
          "base_uri": "https://localhost:8080/"
        },
        "id": "sMUOWl2DoDEI",
        "outputId": "99abacfa-5248-4133-bdd3-ecb583b767c4"
      },
      "execution_count": 9,
      "outputs": [
        {
          "output_type": "execute_result",
          "data": {
            "text/plain": [
              "['hola jose', 'hola juan', 'hola pedro']"
            ]
          },
          "metadata": {},
          "execution_count": 9
        }
      ]
    },
    {
      "cell_type": "code",
      "source": [],
      "metadata": {
        "id": "5YWAr01-ovvl"
      },
      "execution_count": null,
      "outputs": []
    },
    {
      "cell_type": "markdown",
      "source": [],
      "metadata": {
        "id": "GhtNAFXjo9lu"
      }
    },
    {
      "cell_type": "markdown",
      "source": [],
      "metadata": {
        "id": "QfOW1yQCpbh3"
      }
    },
    {
      "cell_type": "markdown",
      "source": [
        "# Funcion flatmap\n"
      ],
      "metadata": {
        "id": "Z_yoFpP6pcTy"
      }
    },
    {
      "cell_type": "markdown",
      "source": [
        "aplana o hace una coleccion de los elelemntos de entrada\n"
      ],
      "metadata": {
        "id": "qM5solB9ptPH"
      }
    },
    {
      "cell_type": "code",
      "source": [
        "rdd = sc.parallelize([1,2,3,4,5])\n",
        "rdd.collect()"
      ],
      "metadata": {
        "colab": {
          "base_uri": "https://localhost:8080/"
        },
        "id": "G-o1TIoipfzZ",
        "outputId": "b0eadd9e-fa11-4581-ea36-809c19509882"
      },
      "execution_count": 10,
      "outputs": [
        {
          "output_type": "execute_result",
          "data": {
            "text/plain": [
              "[1, 2, 3, 4, 5]"
            ]
          },
          "metadata": {},
          "execution_count": 10
        }
      ]
    },
    {
      "cell_type": "code",
      "source": [
        "rdd_cuadrado = rdd.map(lambda x: [x,x**2])\n",
        "rdd_cuadrado.collect()"
      ],
      "metadata": {
        "colab": {
          "base_uri": "https://localhost:8080/"
        },
        "id": "3mgF1GHPp5vM",
        "outputId": "64a64f59-01a0-40cb-ef3c-2b8f8a429a74"
      },
      "execution_count": 11,
      "outputs": [
        {
          "output_type": "execute_result",
          "data": {
            "text/plain": [
              "[[1, 1], [2, 4], [3, 9], [4, 16], [5, 25]]"
            ]
          },
          "metadata": {},
          "execution_count": 11
        }
      ]
    },
    {
      "cell_type": "code",
      "source": [
        "rdd_cuadrado_flat = rdd.flatMap(lambda x: [x,x**2])\n",
        "rdd_cuadrado_flat.collect()"
      ],
      "metadata": {
        "colab": {
          "base_uri": "https://localhost:8080/"
        },
        "id": "kDKiGXJDp-UY",
        "outputId": "db016ae5-7570-4b22-acbc-415adeab9230"
      },
      "execution_count": 15,
      "outputs": [
        {
          "output_type": "execute_result",
          "data": {
            "text/plain": [
              "[1, 1, 2, 4, 3, 9, 4, 16, 5, 25]"
            ]
          },
          "metadata": {},
          "execution_count": 15
        }
      ]
    },
    {
      "cell_type": "code",
      "source": [
        "rdd_texto = sc.parallelize([\"jose\", \"juan\", \"pedro\"])\n",
        "rdd_texto.collect()"
      ],
      "metadata": {
        "colab": {
          "base_uri": "https://localhost:8080/"
        },
        "id": "NogFmYSfqSrj",
        "outputId": "8b5f7b88-2a61-4a93-cbe0-0bd86ad45d5d"
      },
      "execution_count": 16,
      "outputs": [
        {
          "output_type": "execute_result",
          "data": {
            "text/plain": [
              "['jose', 'juan', 'pedro']"
            ]
          },
          "metadata": {},
          "execution_count": 16
        }
      ]
    },
    {
      "cell_type": "code",
      "source": [
        "rdd_mayuscula = rdd_texto.flatMap(lambda x: x.upper())\n",
        "\n",
        "rdd_mayuscula.collect()"
      ],
      "metadata": {
        "colab": {
          "base_uri": "https://localhost:8080/"
        },
        "id": "6dbczeLBsQAr",
        "outputId": "ae25d996-8d23-4ccc-80c9-9c7ebe0df8f2"
      },
      "execution_count": 19,
      "outputs": [
        {
          "output_type": "execute_result",
          "data": {
            "text/plain": [
              "['J', 'O', 'S', 'E', 'J', 'U', 'A', 'N', 'P', 'E', 'D', 'R', 'O']"
            ]
          },
          "metadata": {},
          "execution_count": 19
        }
      ]
    },
    {
      "cell_type": "markdown",
      "source": [],
      "metadata": {
        "id": "ZdMl5bPqsyth"
      }
    },
    {
      "cell_type": "markdown",
      "source": [
        "# Transformacion Filter"
      ],
      "metadata": {
        "id": "i0vCr20ouPB4"
      }
    },
    {
      "cell_type": "markdown",
      "source": [
        "La funcion Filter aplica la funcion de transformaicon a la entrada para las funciones de salida."
      ],
      "metadata": {
        "id": "6O5yS2kYuU-1"
      }
    },
    {
      "cell_type": "code",
      "source": [
        "rdd = sc.parallelize([1,2,3,4,5,6,7,8,9])\n",
        "rdd.collect()\n",
        "\n",
        "rdd_pares = rdd.filter(lambda x: x%2 ==0)\n",
        "rdd_pares.collect()"
      ],
      "metadata": {
        "colab": {
          "base_uri": "https://localhost:8080/"
        },
        "id": "mFzV-7ZTuTVD",
        "outputId": "11d2166d-117c-4d1f-c742-1b906a8623b6"
      },
      "execution_count": 20,
      "outputs": [
        {
          "output_type": "execute_result",
          "data": {
            "text/plain": [
              "[2, 4, 6, 8]"
            ]
          },
          "metadata": {},
          "execution_count": 20
        }
      ]
    },
    {
      "cell_type": "code",
      "source": [
        "rdd_impar = rdd.filter( lambda x: x%2 !=0)\n",
        "rdd_impar.collect()"
      ],
      "metadata": {
        "colab": {
          "base_uri": "https://localhost:8080/"
        },
        "id": "hEkLwzCJv7ZV",
        "outputId": "d812975c-0327-4495-c01b-351b8b990f49"
      },
      "execution_count": 21,
      "outputs": [
        {
          "output_type": "execute_result",
          "data": {
            "text/plain": [
              "[1, 3, 5, 7, 9]"
            ]
          },
          "metadata": {},
          "execution_count": 21
        }
      ]
    },
    {
      "cell_type": "code",
      "source": [
        "rdd_texto = sc.parallelize([\"jose\", \"juan\", \"joaquin\",\"lucia\",\"karla\",\"karia\"])\n",
        "\n",
        "\n",
        "rdd_texto.collect()"
      ],
      "metadata": {
        "colab": {
          "base_uri": "https://localhost:8080/"
        },
        "id": "6j5j7rJowLgD",
        "outputId": "06e5594c-ad25-4c45-f7ca-f054ce3312fb"
      },
      "execution_count": 22,
      "outputs": [
        {
          "output_type": "execute_result",
          "data": {
            "text/plain": [
              "['jose', 'juan', 'joaquin', 'lucia', 'karla', 'karia']"
            ]
          },
          "metadata": {},
          "execution_count": 22
        }
      ]
    },
    {
      "cell_type": "code",
      "source": [
        "rdd_filter = rdd_texto.filter(lambda x: x.startswith(\"k\"))\n",
        "rdd_filter.collect()"
      ],
      "metadata": {
        "colab": {
          "base_uri": "https://localhost:8080/"
        },
        "id": "FIGPFzvDxyqC",
        "outputId": "bc882696-8132-4c32-b4df-06f54a6ef522"
      },
      "execution_count": 23,
      "outputs": [
        {
          "output_type": "execute_result",
          "data": {
            "text/plain": [
              "['karla', 'karia']"
            ]
          },
          "metadata": {},
          "execution_count": 23
        }
      ]
    },
    {
      "cell_type": "code",
      "source": [
        "rdd_filterj = rdd_texto.filter(lambda x: x.startswith(\"j\") and x.find('u') == 1)\n",
        "rdd_filterj.collect()\n"
      ],
      "metadata": {
        "colab": {
          "base_uri": "https://localhost:8080/"
        },
        "id": "iadnKRGMx7hZ",
        "outputId": "73d8d076-bb34-4ab3-ff1d-fda1bed57df6"
      },
      "execution_count": 27,
      "outputs": [
        {
          "output_type": "execute_result",
          "data": {
            "text/plain": [
              "['juan']"
            ]
          },
          "metadata": {},
          "execution_count": 27
        }
      ]
    },
    {
      "cell_type": "code",
      "source": [],
      "metadata": {
        "id": "fXbQOgzkABd_"
      },
      "execution_count": null,
      "outputs": []
    },
    {
      "cell_type": "code",
      "source": [],
      "metadata": {
        "id": "WkFdwQtp_9Jr"
      },
      "execution_count": null,
      "outputs": []
    },
    {
      "cell_type": "code",
      "source": [],
      "metadata": {
        "id": "wuXwtEnM_3R5"
      },
      "execution_count": null,
      "outputs": []
    },
    {
      "cell_type": "code",
      "source": [],
      "metadata": {
        "id": "MWFwK_xv_2lm"
      },
      "execution_count": null,
      "outputs": []
    },
    {
      "cell_type": "markdown",
      "source": [],
      "metadata": {
        "id": "d9IaPAjpuSG3"
      }
    },
    {
      "cell_type": "markdown",
      "source": [
        "# Transformacion Coalesce()"
      ],
      "metadata": {
        "id": "d1qOu--XALI-"
      }
    },
    {
      "cell_type": "markdown",
      "source": [
        "Se usa para reducir las particiones despues de un procesamiento pesado para optimizar el rendimiento.\n",
        "\n",
        "Antes de escribir datos en el alamcenamiento, para eviar demasiadas particiones pequeñas.\n",
        "\n",
        "Cuando no necesitas balancear los datos entre particiones, sino solo fusionarlas.\n"
      ],
      "metadata": {
        "id": "3ur9S3TUAoad"
      }
    },
    {
      "cell_type": "code",
      "source": [
        "rdd = sc.parallelize([1,2,3,4,5],10)\n",
        "rdd.collect()"
      ],
      "metadata": {
        "colab": {
          "base_uri": "https://localhost:8080/"
        },
        "id": "d4iQjd7hAP21",
        "outputId": "2cbdae8c-9b89-4d10-a818-1e277d8d78ab"
      },
      "execution_count": 30,
      "outputs": [
        {
          "output_type": "execute_result",
          "data": {
            "text/plain": [
              "[1, 2, 3, 4, 5]"
            ]
          },
          "metadata": {},
          "execution_count": 30
        }
      ]
    },
    {
      "cell_type": "markdown",
      "source": [],
      "metadata": {
        "id": "3D-jHftBA8eL"
      }
    },
    {
      "cell_type": "code",
      "source": [
        "rdd.getNumPartitions()"
      ],
      "metadata": {
        "colab": {
          "base_uri": "https://localhost:8080/"
        },
        "id": "Xiv3pu0_AcOY",
        "outputId": "eb0d9515-2a4e-439e-b92d-14a0e26a5844"
      },
      "execution_count": 31,
      "outputs": [
        {
          "output_type": "execute_result",
          "data": {
            "text/plain": [
              "10"
            ]
          },
          "metadata": {},
          "execution_count": 31
        }
      ]
    },
    {
      "cell_type": "code",
      "source": [
        "rdd.coalesce(5).getNumPartitions()"
      ],
      "metadata": {
        "colab": {
          "base_uri": "https://localhost:8080/"
        },
        "id": "pCQJYqcKAfQZ",
        "outputId": "8788025e-5747-4f35-989d-20a3562f6aab"
      },
      "execution_count": 33,
      "outputs": [
        {
          "output_type": "execute_result",
          "data": {
            "text/plain": [
              "5"
            ]
          },
          "metadata": {},
          "execution_count": 33
        }
      ]
    },
    {
      "cell_type": "code",
      "source": [],
      "metadata": {
        "id": "-LTuiG7LBBCC"
      },
      "execution_count": null,
      "outputs": []
    },
    {
      "cell_type": "code",
      "source": [],
      "metadata": {
        "id": "gO56NtC2A_zS"
      },
      "execution_count": null,
      "outputs": []
    }
  ]
}